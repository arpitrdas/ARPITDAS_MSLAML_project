{
 "cells": [
  {
   "cell_type": "code",
   "execution_count": 27,
   "id": "94518668",
   "metadata": {},
   "outputs": [
    {
     "data": {
      "text/html": [
       "<div>\n",
       "<style scoped>\n",
       "    .dataframe tbody tr th:only-of-type {\n",
       "        vertical-align: middle;\n",
       "    }\n",
       "\n",
       "    .dataframe tbody tr th {\n",
       "        vertical-align: top;\n",
       "    }\n",
       "\n",
       "    .dataframe thead th {\n",
       "        text-align: right;\n",
       "    }\n",
       "</style>\n",
       "<table border=\"1\" class=\"dataframe\">\n",
       "  <thead>\n",
       "    <tr style=\"text-align: right;\">\n",
       "      <th></th>\n",
       "      <th>age</th>\n",
       "      <th>sex</th>\n",
       "      <th>cp</th>\n",
       "      <th>trtbps</th>\n",
       "      <th>chol</th>\n",
       "      <th>fbs</th>\n",
       "      <th>restecg</th>\n",
       "      <th>thalachh</th>\n",
       "      <th>exng</th>\n",
       "      <th>oldpeak</th>\n",
       "      <th>slp</th>\n",
       "      <th>caa</th>\n",
       "      <th>thall</th>\n",
       "      <th>output</th>\n",
       "    </tr>\n",
       "  </thead>\n",
       "  <tbody>\n",
       "    <tr>\n",
       "      <th>0</th>\n",
       "      <td>63</td>\n",
       "      <td>1</td>\n",
       "      <td>3</td>\n",
       "      <td>145</td>\n",
       "      <td>233</td>\n",
       "      <td>1</td>\n",
       "      <td>0</td>\n",
       "      <td>150</td>\n",
       "      <td>0</td>\n",
       "      <td>2.3</td>\n",
       "      <td>0</td>\n",
       "      <td>0</td>\n",
       "      <td>1</td>\n",
       "      <td>1</td>\n",
       "    </tr>\n",
       "    <tr>\n",
       "      <th>1</th>\n",
       "      <td>37</td>\n",
       "      <td>1</td>\n",
       "      <td>2</td>\n",
       "      <td>130</td>\n",
       "      <td>250</td>\n",
       "      <td>0</td>\n",
       "      <td>1</td>\n",
       "      <td>187</td>\n",
       "      <td>0</td>\n",
       "      <td>3.5</td>\n",
       "      <td>0</td>\n",
       "      <td>0</td>\n",
       "      <td>2</td>\n",
       "      <td>1</td>\n",
       "    </tr>\n",
       "    <tr>\n",
       "      <th>2</th>\n",
       "      <td>41</td>\n",
       "      <td>0</td>\n",
       "      <td>1</td>\n",
       "      <td>130</td>\n",
       "      <td>204</td>\n",
       "      <td>0</td>\n",
       "      <td>0</td>\n",
       "      <td>172</td>\n",
       "      <td>0</td>\n",
       "      <td>1.4</td>\n",
       "      <td>2</td>\n",
       "      <td>0</td>\n",
       "      <td>2</td>\n",
       "      <td>1</td>\n",
       "    </tr>\n",
       "    <tr>\n",
       "      <th>3</th>\n",
       "      <td>56</td>\n",
       "      <td>1</td>\n",
       "      <td>1</td>\n",
       "      <td>120</td>\n",
       "      <td>236</td>\n",
       "      <td>0</td>\n",
       "      <td>1</td>\n",
       "      <td>178</td>\n",
       "      <td>0</td>\n",
       "      <td>0.8</td>\n",
       "      <td>2</td>\n",
       "      <td>0</td>\n",
       "      <td>2</td>\n",
       "      <td>1</td>\n",
       "    </tr>\n",
       "    <tr>\n",
       "      <th>4</th>\n",
       "      <td>57</td>\n",
       "      <td>0</td>\n",
       "      <td>0</td>\n",
       "      <td>120</td>\n",
       "      <td>354</td>\n",
       "      <td>0</td>\n",
       "      <td>1</td>\n",
       "      <td>163</td>\n",
       "      <td>1</td>\n",
       "      <td>0.6</td>\n",
       "      <td>2</td>\n",
       "      <td>0</td>\n",
       "      <td>2</td>\n",
       "      <td>1</td>\n",
       "    </tr>\n",
       "  </tbody>\n",
       "</table>\n",
       "</div>"
      ],
      "text/plain": [
       "   age  sex  cp  trtbps  chol  fbs  restecg  thalachh  exng  oldpeak  slp  \\\n",
       "0   63    1   3     145   233    1        0       150     0      2.3    0   \n",
       "1   37    1   2     130   250    0        1       187     0      3.5    0   \n",
       "2   41    0   1     130   204    0        0       172     0      1.4    2   \n",
       "3   56    1   1     120   236    0        1       178     0      0.8    2   \n",
       "4   57    0   0     120   354    0        1       163     1      0.6    2   \n",
       "\n",
       "   caa  thall  output  \n",
       "0    0      1       1  \n",
       "1    0      2       1  \n",
       "2    0      2       1  \n",
       "3    0      2       1  \n",
       "4    0      2       1  "
      ]
     },
     "execution_count": 27,
     "metadata": {},
     "output_type": "execute_result"
    }
   ],
   "source": [
    "import pandas as pd\n",
    "import numpy as np\n",
    "import matplotlib.pyplot as plt\n",
    "import seaborn as sns\n",
    "import tensorflow as tf\n",
    "from tensorflow import keras\n",
    "from sklearn.ensemble import RandomForestRegressor\n",
    "import pickle\n",
    "from tensorflow.keras import layers\n",
    "from tensorflow.keras.models import Sequential\n",
    "from tensorflow.keras.layers import Dense, Dropout\n",
    "%matplotlib inline\n",
    "sns.set()\n",
    "df = pd.read_csv('heart.csv')\n",
    "df.dropna()\n",
    "df.head()"
   ]
  },
  {
   "cell_type": "code",
   "execution_count": 5,
   "id": "7ac98062",
   "metadata": {},
   "outputs": [
    {
     "data": {
      "text/plain": [
       "age  sex  cp  trtbps  chol  fbs  restecg  thalachh  exng  oldpeak  slp  caa  thall  output\n",
       "38   1    2   138     175   0    1        173       0     0.0      2    4    2      1         2\n",
       "59   1    0   110     239   0    0        142       1     1.2      1    1    3      0         1\n",
       "          2   126     218   1    1        134       0     2.2      1    1    1      0         1\n",
       "          1   140     221   0    1        164       1     0.0      2    0    2      1         1\n",
       "          0   170     326   0    0        140       1     3.4      0    0    3      0         1\n",
       "                                                                                             ..\n",
       "51   1    2   94      227   0    1        154       1     0.0      2    1    3      1         1\n",
       "          0   140     299   0    1        173       1     1.6      2    0    3      0         1\n",
       "                      298   0    1        122       1     4.2      1    3    3      0         1\n",
       "                      261   0    0        186       1     0.0      2    0    2      1         1\n",
       "77   1    0   125     304   0    0        162       1     0.0      2    3    2      0         1\n",
       "Length: 302, dtype: int64"
      ]
     },
     "execution_count": 5,
     "metadata": {},
     "output_type": "execute_result"
    }
   ],
   "source": [
    "df.value_counts()"
   ]
  },
  {
   "cell_type": "code",
   "execution_count": 6,
   "id": "849a9d94",
   "metadata": {},
   "outputs": [
    {
     "data": {
      "text/plain": [
       "0      1\n",
       "1      1\n",
       "2      1\n",
       "3      1\n",
       "4      1\n",
       "      ..\n",
       "298    0\n",
       "299    0\n",
       "300    0\n",
       "301    0\n",
       "302    0\n",
       "Name: output, Length: 303, dtype: int64"
      ]
     },
     "execution_count": 6,
     "metadata": {},
     "output_type": "execute_result"
    }
   ],
   "source": [
    "#split data into input and output\n",
    "X = df.drop('output', axis=1)\n",
    "y = df['output']\n",
    "#process the data\n"
   ]
  },
  {
   "cell_type": "code",
   "execution_count": 99,
   "id": "d7c2d578",
   "metadata": {},
   "outputs": [
    {
     "data": {
      "text/plain": [
       "exng       -0.436757\n",
       "oldpeak    -0.430696\n",
       "caa        -0.391724\n",
       "thall      -0.344029\n",
       "sex        -0.280937\n",
       "age        -0.225439\n",
       "trtbps     -0.144931\n",
       "chol       -0.085239\n",
       "fbs        -0.028046\n",
       "restecg     0.137230\n",
       "slp         0.345877\n",
       "thalachh    0.421741\n",
       "cp          0.433798\n",
       "output      1.000000\n",
       "Name: output, dtype: float64"
      ]
     },
     "execution_count": 99,
     "metadata": {},
     "output_type": "execute_result"
    }
   ],
   "source": [
    "#determining the three most important values on output\n",
    "\n",
    "df.corr()['output'].sort_values()"
   ]
  },
  {
   "cell_type": "code",
   "execution_count": 50,
   "id": "254582b0",
   "metadata": {},
   "outputs": [
    {
     "data": {
      "text/plain": [
       "<AxesSubplot:>"
      ]
     },
     "execution_count": 50,
     "metadata": {},
     "output_type": "execute_result"
    },
    {
     "data": {
      "image/png": "[encoded data removed]",
      "text/plain": [
       "<Figure size 432x288 with 2 Axes>"
      ]
     },
     "metadata": {},
     "output_type": "display_data"
    }
   ],
   "source": [
    "#plotting correlation between most important values\n",
    "df_corr = pd.DataFrame(df,columns=['thalachh', 'cp', 'slp'])\n",
    "corr = df_corr.corr()\n",
    "sns.heatmap(corr)\n"
   ]
  },
  {
   "cell_type": "code",
   "execution_count": 7,
   "id": "74a09f46",
   "metadata": {},
   "outputs": [
    {
     "data": {
      "text/plain": [
       "(212, 13)"
      ]
     },
     "execution_count": 7,
     "metadata": {},
     "output_type": "execute_result"
    }
   ],
   "source": [
    "#applying train test split to data\n",
    "from sklearn.model_selection import train_test_split\n",
    "from sklearn.preprocessing import MinMaxScaler\n",
    "X_train, X_test, y_train, y_test = train_test_split(X, y, test_size=0.3, random_state=50)\n",
    "scaler = MinMaxScaler()\n",
    "X_train = scaler.fit_transform(X_train)\n",
    "X_test = scaler.transform(X_test)\n",
    "X_train.shape\n",
    "\n"
   ]
  },
  {
   "cell_type": "code",
   "execution_count": 30,
   "id": "4de8994c",
   "metadata": {},
   "outputs": [],
   "source": [
    "#building the actual model which is kept small to pevent overfitting\n",
    "model = tf.keras.Sequential(\n",
    "    [\n",
    "        layers.Dense(13, activation=\"relu\"),\n",
    "        layers.Dense(1, activation=\"sigmoid\"), # As the given data has either 0 or 1, it is binary dataset so we have sigmoid\n",
    "    ]\n",
    ")\n",
    "model.compile(optimizer='adam',\n",
    "    loss='binary_crossentropy',metrics=['accuracy'])"
   ]
  },
  {
   "cell_type": "code",
   "execution_count": 38,
   "id": "30df2bc7",
   "metadata": {},
   "outputs": [
    {
     "name": "stdout",
     "output_type": "stream",
     "text": [
      "Epoch 1/10\n",
      "7/7 [==============================] - 0s 11ms/step - loss: 0.4755 - accuracy: 0.8349 - val_loss: 0.5016 - val_accuracy: 0.7912\n",
      "Epoch 2/10\n",
      "7/7 [==============================] - 0s 8ms/step - loss: 0.4681 - accuracy: 0.8491 - val_loss: 0.4970 - val_accuracy: 0.7912\n",
      "Epoch 3/10\n",
      "7/7 [==============================] - 0s 8ms/step - loss: 0.4612 - accuracy: 0.8538 - val_loss: 0.4925 - val_accuracy: 0.7912\n",
      "Epoch 4/10\n",
      "7/7 [==============================] - 0s 7ms/step - loss: 0.4543 - accuracy: 0.8443 - val_loss: 0.4888 - val_accuracy: 0.7912\n",
      "Epoch 5/10\n",
      "7/7 [==============================] - 0s 8ms/step - loss: 0.4483 - accuracy: 0.8443 - val_loss: 0.4853 - val_accuracy: 0.7912\n",
      "Epoch 6/10\n",
      "7/7 [==============================] - 0s 8ms/step - loss: 0.4429 - accuracy: 0.8491 - val_loss: 0.4825 - val_accuracy: 0.7802\n",
      "Epoch 7/10\n",
      "7/7 [==============================] - 0s 6ms/step - loss: 0.4376 - accuracy: 0.8443 - val_loss: 0.4791 - val_accuracy: 0.7912\n",
      "Epoch 8/10\n",
      "7/7 [==============================] - 0s 8ms/step - loss: 0.4324 - accuracy: 0.8443 - val_loss: 0.4760 - val_accuracy: 0.7802\n",
      "Epoch 9/10\n",
      "7/7 [==============================] - 0s 9ms/step - loss: 0.4278 - accuracy: 0.8491 - val_loss: 0.4732 - val_accuracy: 0.7802\n",
      "Epoch 10/10\n",
      "7/7 [==============================] - 0s 7ms/step - loss: 0.4231 - accuracy: 0.8491 - val_loss: 0.4708 - val_accuracy: 0.7802\n"
     ]
    },
    {
     "data": {
      "text/plain": [
       "<keras.callbacks.History at 0x1c44791c790>"
      ]
     },
     "execution_count": 38,
     "metadata": {},
     "output_type": "execute_result"
    }
   ],
   "source": [
    "model.fit(X_train, y_train, epochs=10, validation_data=(X_test,y_test), batch_size=32)\n"
   ]
  },
  {
   "cell_type": "code",
   "execution_count": 51,
   "id": "6a1ef1cf",
   "metadata": {},
   "outputs": [
    {
     "name": "stdout",
     "output_type": "stream",
     "text": [
      "3/3 [==============================] - 0s 3ms/step - loss: 0.4629 - accuracy: 0.7582\n"
     ]
    },
    {
     "data": {
      "text/plain": [
       "[0.4628617763519287, 0.7582417726516724]"
      ]
     },
     "execution_count": 51,
     "metadata": {},
     "output_type": "execute_result"
    }
   ],
   "source": [
    "model.evaluate(X_test, y_test, verbose=1)"
   ]
  },
  {
   "cell_type": "code",
   "execution_count": 52,
   "id": "20023b9f",
   "metadata": {},
   "outputs": [
    {
     "name": "stdout",
     "output_type": "stream",
     "text": [
      "7/7 [==============================] - 0s 2ms/step - loss: 0.4055 - accuracy: 0.8491\n"
     ]
    },
    {
     "data": {
      "text/plain": [
       "[0.40554216504096985, 0.849056601524353]"
      ]
     },
     "execution_count": 52,
     "metadata": {},
     "output_type": "execute_result"
    }
   ],
   "source": [
    "model.evaluate(X_train, y_train, verbose=1)"
   ]
  },
  {
   "cell_type": "code",
   "execution_count": 39,
   "id": "0a44e92d",
   "metadata": {},
   "outputs": [
    {
     "name": "stdout",
     "output_type": "stream",
     "text": [
      "Epoch 1/10\n",
      "3/3 [==============================] - 0s 30ms/step - loss: 0.4201 - accuracy: 0.8491 - val_loss: 0.4698 - val_accuracy: 0.7802\n",
      "Epoch 2/10\n",
      "3/3 [==============================] - 0s 14ms/step - loss: 0.4183 - accuracy: 0.8538 - val_loss: 0.4690 - val_accuracy: 0.7692\n",
      "Epoch 3/10\n",
      "3/3 [==============================] - 0s 20ms/step - loss: 0.4165 - accuracy: 0.8538 - val_loss: 0.4684 - val_accuracy: 0.7582\n",
      "Epoch 4/10\n",
      "3/3 [==============================] - 0s 16ms/step - loss: 0.4151 - accuracy: 0.8491 - val_loss: 0.4677 - val_accuracy: 0.7582\n",
      "Epoch 5/10\n",
      "3/3 [==============================] - 0s 15ms/step - loss: 0.4134 - accuracy: 0.8491 - val_loss: 0.4667 - val_accuracy: 0.7582\n",
      "Epoch 6/10\n",
      "3/3 [==============================] - 0s 22ms/step - loss: 0.4121 - accuracy: 0.8538 - val_loss: 0.4659 - val_accuracy: 0.7582\n",
      "Epoch 7/10\n",
      "3/3 [==============================] - 0s 22ms/step - loss: 0.4108 - accuracy: 0.8538 - val_loss: 0.4650 - val_accuracy: 0.7692\n",
      "Epoch 8/10\n",
      "3/3 [==============================] - 0s 17ms/step - loss: 0.4094 - accuracy: 0.8491 - val_loss: 0.4642 - val_accuracy: 0.7692\n",
      "Epoch 9/10\n",
      "3/3 [==============================] - 0s 17ms/step - loss: 0.4082 - accuracy: 0.8491 - val_loss: 0.4635 - val_accuracy: 0.7692\n",
      "Epoch 10/10\n",
      "3/3 [==============================] - 0s 18ms/step - loss: 0.4067 - accuracy: 0.8491 - val_loss: 0.4629 - val_accuracy: 0.7582\n"
     ]
    }
   ],
   "source": [
    "\n",
    "hist = model.fit(X_train, y_train, validation_data=(X_test, y_test), epochs=10, batch_size=100)\n"
   ]
  },
  {
   "cell_type": "code",
   "execution_count": 40,
   "id": "41a03858",
   "metadata": {},
   "outputs": [],
   "source": [
    "test_predictions = model.predict(X_test)\n",
    "test_predictions = pd.Series(test_predictions.reshape(91,))"
   ]
  },
  {
   "cell_type": "code",
   "execution_count": 44,
   "id": "348e371b",
   "metadata": {},
   "outputs": [
    {
     "name": "stdout",
     "output_type": "stream",
     "text": [
      "0.15003122952348244\n"
     ]
    }
   ],
   "source": [
    "from sklearn import metrics\n",
    "from sklearn.metrics import classification_report\n",
    "print(metrics.mean_squared_error(y_test,test_predictions))\n"
   ]
  },
  {
   "cell_type": "code",
   "execution_count": 45,
   "id": "0261cd9b",
   "metadata": {},
   "outputs": [
    {
     "data": {
      "text/plain": [
       "[]"
      ]
     },
     "execution_count": 45,
     "metadata": {},
     "output_type": "execute_result"
    },
    {
     "data": {
      "image/png": "[encoded data removed]",
      "text/plain": [
       "<Figure size 432x288 with 1 Axes>"
      ]
     },
     "metadata": {},
     "output_type": "display_data"
    }
   ],
   "source": [
    "acc = hist.history['accuracy']\n",
    "val_acc = hist.history['val_accuracy']\n",
    "epochs = range(1, len(acc) + 1)\n",
    "plt.plot(epochs, acc, '-', label='Training accuracy')\n",
    "plt.plot(epochs, val_acc, ':', label='Validation accuracy')\n",
    "plt.title('Training and Validation Accuracy')\n",
    "plt.xlabel('Epoch')\n",
    "plt.ylabel('Accuracy')\n",
    "plt.legend(loc='lower right')\n",
    "plt.plot()"
   ]
  },
  {
   "cell_type": "markdown",
   "id": "3a05be31",
   "metadata": {},
   "source": [
    "\n",
    "\n"
   ]
  }
 ],
 "metadata": {
  "kernelspec": {
   "display_name": "Python 3 (ipykernel)",
   "language": "python",
   "name": "python3"
  },
  "language_info": {
   "codemirror_mode": {
    "name": "ipython",
    "version": 3
   },
   "file_extension": ".py",
   "mimetype": "text/x-python",
   "name": "python",
   "nbconvert_exporter": "python",
   "pygments_lexer": "ipython3",
   "version": "3.9.7"
  }
 },
 "nbformat": 4,
 "nbformat_minor": 5
}
